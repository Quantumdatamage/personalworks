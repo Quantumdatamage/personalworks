{
 "cells": [
  {
   "cell_type": "code",
   "execution_count": null,
   "metadata": {
    "collapsed": true
   },
   "outputs": [],
   "source": [
    "class Animal:\n",
    "\n",
    "    # Class Attribute\n",
    "    kingdom = 'mammal'\n",
    "\n",
    "    # Initializer / Instance Attributes\n",
    "    def __init__(self, name, age):\n",
    "        self.name = name\n",
    "        self.age = age\n",
    "        \n",
    "        \n",
    "# Instantiate the Dog object\n",
    "icarus = Animal(\"Icarus\", 5)\n",
    "maximus = Animal(\"Maximus\", 6)\n",
    "\n",
    "\n",
    "# Child class (inherits from Animal class)\n",
    "class Bird(Animal):\n",
    "    def legs(self, numlegs):\n",
    "        pass\n",
    "    def sound(self, sound):\n",
    "        pass\n",
    "\n",
    "class Cat(Animal):\n",
    "    def legs(self, numlegs):\n",
    "        pass\n",
    "    def sound(self, sound):\n",
    "        pass"
   ]
  }
 ],
 "metadata": {
  "kernelspec": {
   "display_name": "Python 3",
   "language": "python",
   "name": "python3"
  },
  "language_info": {
   "codemirror_mode": {
    "name": "ipython",
    "version": 3
   },
   "file_extension": ".py",
   "mimetype": "text/x-python",
   "name": "python",
   "nbconvert_exporter": "python",
   "pygments_lexer": "ipython3",
   "version": "3.5.3"
  }
 },
 "nbformat": 4,
 "nbformat_minor": 0
}
